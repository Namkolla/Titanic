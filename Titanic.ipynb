{
 "cells": [
  {
   "cell_type": "markdown",
   "metadata": {},
   "source": [
    "# The Tragedy of the Titanic"
   ]
  },
  {
   "cell_type": "markdown",
   "metadata": {},
   "source": [
    "### Research Questions\n",
    "\n",
    "1. How correlated are fare paid and the number of parents, children, spouses, and siblings on board? \n",
    "   - Add values in parch + sibsp\n",
    "   - Find Pearson's value \n",
    "   - Prediction: strong correlation! >.80)\n",
    "\n",
    "2. How correlated are ticket fare and the ticket class? \n",
    "   - Prediction: strong correlation!\n",
    "\n",
    "3. What factors were the best predictors of survival on the Titanic?\n",
    "   - Were women with children more likely to survive than women without children? \n",
    "   - Was embarkment point a predictor of survival? \n",
    "   - Ticket class? \n",
    "   - Ticket fare?\n",
    "   \n",
    "### Research Method\n",
    "\n",
    "1. Import data as a pandas dataframe\n",
    "2. Print basic stats (mean, median, mode, etc.) on age, sibsp, parch, and fare\n",
    "3. Create bar graph/pie chart of gender and embarking point \n",
    "4. Compare fare vs sibsp + parch (#1 research question) \n",
    "5. Compare fare vs ticket class (#2 research question) \n",
    "6. Use the groupby function \n",
    "   - Group women w/ children vs women w/o children \n",
    "       - What was the survival % difference? \n",
    "       - Filter out women younger than 18, because they're probably someone else's kid\n",
    "   - Group by embarkment point\n",
    "       - What was the survival % in each? \n",
    "   - Group by class\n",
    "       - What was the survival % in each?\n",
    "       - Create 3 boxplots of fare spent in each class (stack above one another) \n",
    "       - OR create 3 histograms of fare spent (bins 0-10,11-20 etc.) stacked upon one another (make translucent) \n",
    "          - Having some relationship gives us the justification to pursue the last step below to assume class has an impact on survival \n",
    "   - Group by survival \n",
    "       - Create 2 histograms (stacked above & below axis) of fare spent (bins 0-10,11-20, etc.) on x-axis and survivors/victims on y-axes\n",
    "7. Clean/wrangle data throughout"
   ]
  },
  {
   "cell_type": "markdown",
   "metadata": {},
   "source": [
    "### Import Data"
   ]
  },
  {
   "cell_type": "code",
   "execution_count": 223,
   "metadata": {},
   "outputs": [
    {
     "name": "stdout",
     "output_type": "stream",
     "text": [
      "<class 'pandas.core.frame.DataFrame'>\n",
      "             Survived  Pclass  \\\n",
      "PassengerId                     \n",
      "1                   0       3   \n",
      "2                   1       1   \n",
      "3                   1       3   \n",
      "4                   1       1   \n",
      "5                   0       3   \n",
      "\n",
      "                                                          Name     Sex   Age  \\\n",
      "PassengerId                                                                    \n",
      "1                                      Braund, Mr. Owen Harris    male  22.0   \n",
      "2            Cumings, Mrs. John Bradley (Florence Briggs Th...  female  38.0   \n",
      "3                                       Heikkinen, Miss. Laina  female  26.0   \n",
      "4                 Futrelle, Mrs. Jacques Heath (Lily May Peel)  female  35.0   \n",
      "5                                     Allen, Mr. William Henry    male  35.0   \n",
      "\n",
      "             SibSp  Parch            Ticket     Fare Cabin Embarked  \n",
      "PassengerId                                                          \n",
      "1                1      0         A/5 21171   7.2500   NaN        S  \n",
      "2                1      0          PC 17599  71.2833   C85        C  \n",
      "3                0      0  STON/O2. 3101282   7.9250   NaN        S  \n",
      "4                1      0            113803  53.1000  C123        S  \n",
      "5                0      0            373450   8.0500   NaN        S  \n"
     ]
    }
   ],
   "source": [
    "import numpy as np\n",
    "import pandas as pd\n",
    "import seaborn as sns\n",
    "%matplotlib inline\n",
    "import matplotlib.pyplot as plt\n",
    "\n",
    "titan_data = pd.read_csv('titanic-data.csv',header=0,index_col='PassengerId')\n",
    "print(type(titan_data))\n",
    "print(titan_data.head(n=5)) "
   ]
  },
  {
   "cell_type": "markdown",
   "metadata": {},
   "source": [
    "** Observations: ** \n",
    "- lots of NaN values in Age & Cabin\n",
    "- Are no. of parch and sibsp matching up with # of people on board with the same last name? (Are people sneaking on?)\n",
    "- Name has a lot of extra info in parantheses (e.g. nicknames)\n",
    "- Ticket number is not always uniform \n",
    "- Summary: nothing to clean for now but keep NaN values in mind"
   ]
  },
  {
   "cell_type": "markdown",
   "metadata": {},
   "source": [
    "### Data Analysis"
   ]
  },
  {
   "cell_type": "code",
   "execution_count": 224,
   "metadata": {},
   "outputs": [
    {
     "data": {
      "text/html": [
       "<div>\n",
       "<table border=\"1\" class=\"dataframe\">\n",
       "  <thead>\n",
       "    <tr style=\"text-align: right;\">\n",
       "      <th></th>\n",
       "      <th>Survived</th>\n",
       "      <th>Pclass</th>\n",
       "      <th>Age</th>\n",
       "      <th>SibSp</th>\n",
       "      <th>Parch</th>\n",
       "      <th>Fare</th>\n",
       "    </tr>\n",
       "  </thead>\n",
       "  <tbody>\n",
       "    <tr>\n",
       "      <th>count</th>\n",
       "      <td>891.000000</td>\n",
       "      <td>891.000000</td>\n",
       "      <td>714.000000</td>\n",
       "      <td>891.000000</td>\n",
       "      <td>891.000000</td>\n",
       "      <td>891.000000</td>\n",
       "    </tr>\n",
       "    <tr>\n",
       "      <th>mean</th>\n",
       "      <td>0.383838</td>\n",
       "      <td>2.308642</td>\n",
       "      <td>29.699118</td>\n",
       "      <td>0.523008</td>\n",
       "      <td>0.381594</td>\n",
       "      <td>32.204208</td>\n",
       "    </tr>\n",
       "    <tr>\n",
       "      <th>std</th>\n",
       "      <td>0.486592</td>\n",
       "      <td>0.836071</td>\n",
       "      <td>14.526497</td>\n",
       "      <td>1.102743</td>\n",
       "      <td>0.806057</td>\n",
       "      <td>49.693429</td>\n",
       "    </tr>\n",
       "    <tr>\n",
       "      <th>min</th>\n",
       "      <td>0.000000</td>\n",
       "      <td>1.000000</td>\n",
       "      <td>0.420000</td>\n",
       "      <td>0.000000</td>\n",
       "      <td>0.000000</td>\n",
       "      <td>0.000000</td>\n",
       "    </tr>\n",
       "    <tr>\n",
       "      <th>25%</th>\n",
       "      <td>0.000000</td>\n",
       "      <td>2.000000</td>\n",
       "      <td>20.125000</td>\n",
       "      <td>0.000000</td>\n",
       "      <td>0.000000</td>\n",
       "      <td>7.910400</td>\n",
       "    </tr>\n",
       "    <tr>\n",
       "      <th>50%</th>\n",
       "      <td>0.000000</td>\n",
       "      <td>3.000000</td>\n",
       "      <td>28.000000</td>\n",
       "      <td>0.000000</td>\n",
       "      <td>0.000000</td>\n",
       "      <td>14.454200</td>\n",
       "    </tr>\n",
       "    <tr>\n",
       "      <th>75%</th>\n",
       "      <td>1.000000</td>\n",
       "      <td>3.000000</td>\n",
       "      <td>38.000000</td>\n",
       "      <td>1.000000</td>\n",
       "      <td>0.000000</td>\n",
       "      <td>31.000000</td>\n",
       "    </tr>\n",
       "    <tr>\n",
       "      <th>max</th>\n",
       "      <td>1.000000</td>\n",
       "      <td>3.000000</td>\n",
       "      <td>80.000000</td>\n",
       "      <td>8.000000</td>\n",
       "      <td>6.000000</td>\n",
       "      <td>512.329200</td>\n",
       "    </tr>\n",
       "  </tbody>\n",
       "</table>\n",
       "</div>"
      ],
      "text/plain": [
       "         Survived      Pclass         Age       SibSp       Parch        Fare\n",
       "count  891.000000  891.000000  714.000000  891.000000  891.000000  891.000000\n",
       "mean     0.383838    2.308642   29.699118    0.523008    0.381594   32.204208\n",
       "std      0.486592    0.836071   14.526497    1.102743    0.806057   49.693429\n",
       "min      0.000000    1.000000    0.420000    0.000000    0.000000    0.000000\n",
       "25%      0.000000    2.000000   20.125000    0.000000    0.000000    7.910400\n",
       "50%      0.000000    3.000000   28.000000    0.000000    0.000000   14.454200\n",
       "75%      1.000000    3.000000   38.000000    1.000000    0.000000   31.000000\n",
       "max      1.000000    3.000000   80.000000    8.000000    6.000000  512.329200"
      ]
     },
     "execution_count": 224,
     "metadata": {},
     "output_type": "execute_result"
    }
   ],
   "source": [
    "# Get descriptive stats on all quantitative variables \n",
    "\n",
    "titan_data.describe()"
   ]
  },
  {
   "cell_type": "markdown",
   "metadata": {},
   "source": [
    "** Key highlights: ** \n",
    "- 38% of people survived, which is only 342 out of 891 \n",
    "- Most people were in second or third class \n",
    "- Ages of people on the boat ranged from less than 1 years old to 80\n",
    "- Minimum age is weird (0.42), but kaggle explains age is fractional if less than 1. Also note if the age is estimated, it will be in the form of xx.5. Some ages are also missing \n",
    "- Biggest family included someone who had 1 spouse and 7 siblings \n",
    "- Some people spent 0 pounds to embark... were they first class or crew or something else? "
   ]
  },
  {
   "cell_type": "code",
   "execution_count": 225,
   "metadata": {},
   "outputs": [
    {
     "data": {
      "text/html": [
       "<div>\n",
       "<table border=\"1\" class=\"dataframe\">\n",
       "  <thead>\n",
       "    <tr style=\"text-align: right;\">\n",
       "      <th></th>\n",
       "      <th>Survived</th>\n",
       "      <th>Pclass</th>\n",
       "      <th>Name</th>\n",
       "      <th>Sex</th>\n",
       "      <th>Age</th>\n",
       "      <th>SibSp</th>\n",
       "      <th>Parch</th>\n",
       "      <th>Ticket</th>\n",
       "      <th>Fare</th>\n",
       "      <th>Cabin</th>\n",
       "      <th>Embarked</th>\n",
       "    </tr>\n",
       "    <tr>\n",
       "      <th>PassengerId</th>\n",
       "      <th></th>\n",
       "      <th></th>\n",
       "      <th></th>\n",
       "      <th></th>\n",
       "      <th></th>\n",
       "      <th></th>\n",
       "      <th></th>\n",
       "      <th></th>\n",
       "      <th></th>\n",
       "      <th></th>\n",
       "      <th></th>\n",
       "    </tr>\n",
       "  </thead>\n",
       "  <tbody>\n",
       "    <tr>\n",
       "      <th>180</th>\n",
       "      <td>0</td>\n",
       "      <td>3</td>\n",
       "      <td>Leonard, Mr. Lionel</td>\n",
       "      <td>male</td>\n",
       "      <td>36.0</td>\n",
       "      <td>0</td>\n",
       "      <td>0</td>\n",
       "      <td>LINE</td>\n",
       "      <td>0.0</td>\n",
       "      <td>NaN</td>\n",
       "      <td>S</td>\n",
       "    </tr>\n",
       "    <tr>\n",
       "      <th>264</th>\n",
       "      <td>0</td>\n",
       "      <td>1</td>\n",
       "      <td>Harrison, Mr. William</td>\n",
       "      <td>male</td>\n",
       "      <td>40.0</td>\n",
       "      <td>0</td>\n",
       "      <td>0</td>\n",
       "      <td>112059</td>\n",
       "      <td>0.0</td>\n",
       "      <td>B94</td>\n",
       "      <td>S</td>\n",
       "    </tr>\n",
       "    <tr>\n",
       "      <th>272</th>\n",
       "      <td>1</td>\n",
       "      <td>3</td>\n",
       "      <td>Tornquist, Mr. William Henry</td>\n",
       "      <td>male</td>\n",
       "      <td>25.0</td>\n",
       "      <td>0</td>\n",
       "      <td>0</td>\n",
       "      <td>LINE</td>\n",
       "      <td>0.0</td>\n",
       "      <td>NaN</td>\n",
       "      <td>S</td>\n",
       "    </tr>\n",
       "    <tr>\n",
       "      <th>278</th>\n",
       "      <td>0</td>\n",
       "      <td>2</td>\n",
       "      <td>Parkes, Mr. Francis \"Frank\"</td>\n",
       "      <td>male</td>\n",
       "      <td>NaN</td>\n",
       "      <td>0</td>\n",
       "      <td>0</td>\n",
       "      <td>239853</td>\n",
       "      <td>0.0</td>\n",
       "      <td>NaN</td>\n",
       "      <td>S</td>\n",
       "    </tr>\n",
       "    <tr>\n",
       "      <th>303</th>\n",
       "      <td>0</td>\n",
       "      <td>3</td>\n",
       "      <td>Johnson, Mr. William Cahoone Jr</td>\n",
       "      <td>male</td>\n",
       "      <td>19.0</td>\n",
       "      <td>0</td>\n",
       "      <td>0</td>\n",
       "      <td>LINE</td>\n",
       "      <td>0.0</td>\n",
       "      <td>NaN</td>\n",
       "      <td>S</td>\n",
       "    </tr>\n",
       "    <tr>\n",
       "      <th>414</th>\n",
       "      <td>0</td>\n",
       "      <td>2</td>\n",
       "      <td>Cunningham, Mr. Alfred Fleming</td>\n",
       "      <td>male</td>\n",
       "      <td>NaN</td>\n",
       "      <td>0</td>\n",
       "      <td>0</td>\n",
       "      <td>239853</td>\n",
       "      <td>0.0</td>\n",
       "      <td>NaN</td>\n",
       "      <td>S</td>\n",
       "    </tr>\n",
       "    <tr>\n",
       "      <th>467</th>\n",
       "      <td>0</td>\n",
       "      <td>2</td>\n",
       "      <td>Campbell, Mr. William</td>\n",
       "      <td>male</td>\n",
       "      <td>NaN</td>\n",
       "      <td>0</td>\n",
       "      <td>0</td>\n",
       "      <td>239853</td>\n",
       "      <td>0.0</td>\n",
       "      <td>NaN</td>\n",
       "      <td>S</td>\n",
       "    </tr>\n",
       "    <tr>\n",
       "      <th>482</th>\n",
       "      <td>0</td>\n",
       "      <td>2</td>\n",
       "      <td>Frost, Mr. Anthony Wood \"Archie\"</td>\n",
       "      <td>male</td>\n",
       "      <td>NaN</td>\n",
       "      <td>0</td>\n",
       "      <td>0</td>\n",
       "      <td>239854</td>\n",
       "      <td>0.0</td>\n",
       "      <td>NaN</td>\n",
       "      <td>S</td>\n",
       "    </tr>\n",
       "    <tr>\n",
       "      <th>598</th>\n",
       "      <td>0</td>\n",
       "      <td>3</td>\n",
       "      <td>Johnson, Mr. Alfred</td>\n",
       "      <td>male</td>\n",
       "      <td>49.0</td>\n",
       "      <td>0</td>\n",
       "      <td>0</td>\n",
       "      <td>LINE</td>\n",
       "      <td>0.0</td>\n",
       "      <td>NaN</td>\n",
       "      <td>S</td>\n",
       "    </tr>\n",
       "    <tr>\n",
       "      <th>634</th>\n",
       "      <td>0</td>\n",
       "      <td>1</td>\n",
       "      <td>Parr, Mr. William Henry Marsh</td>\n",
       "      <td>male</td>\n",
       "      <td>NaN</td>\n",
       "      <td>0</td>\n",
       "      <td>0</td>\n",
       "      <td>112052</td>\n",
       "      <td>0.0</td>\n",
       "      <td>NaN</td>\n",
       "      <td>S</td>\n",
       "    </tr>\n",
       "    <tr>\n",
       "      <th>675</th>\n",
       "      <td>0</td>\n",
       "      <td>2</td>\n",
       "      <td>Watson, Mr. Ennis Hastings</td>\n",
       "      <td>male</td>\n",
       "      <td>NaN</td>\n",
       "      <td>0</td>\n",
       "      <td>0</td>\n",
       "      <td>239856</td>\n",
       "      <td>0.0</td>\n",
       "      <td>NaN</td>\n",
       "      <td>S</td>\n",
       "    </tr>\n",
       "    <tr>\n",
       "      <th>733</th>\n",
       "      <td>0</td>\n",
       "      <td>2</td>\n",
       "      <td>Knight, Mr. Robert J</td>\n",
       "      <td>male</td>\n",
       "      <td>NaN</td>\n",
       "      <td>0</td>\n",
       "      <td>0</td>\n",
       "      <td>239855</td>\n",
       "      <td>0.0</td>\n",
       "      <td>NaN</td>\n",
       "      <td>S</td>\n",
       "    </tr>\n",
       "    <tr>\n",
       "      <th>807</th>\n",
       "      <td>0</td>\n",
       "      <td>1</td>\n",
       "      <td>Andrews, Mr. Thomas Jr</td>\n",
       "      <td>male</td>\n",
       "      <td>39.0</td>\n",
       "      <td>0</td>\n",
       "      <td>0</td>\n",
       "      <td>112050</td>\n",
       "      <td>0.0</td>\n",
       "      <td>A36</td>\n",
       "      <td>S</td>\n",
       "    </tr>\n",
       "    <tr>\n",
       "      <th>816</th>\n",
       "      <td>0</td>\n",
       "      <td>1</td>\n",
       "      <td>Fry, Mr. Richard</td>\n",
       "      <td>male</td>\n",
       "      <td>NaN</td>\n",
       "      <td>0</td>\n",
       "      <td>0</td>\n",
       "      <td>112058</td>\n",
       "      <td>0.0</td>\n",
       "      <td>B102</td>\n",
       "      <td>S</td>\n",
       "    </tr>\n",
       "    <tr>\n",
       "      <th>823</th>\n",
       "      <td>0</td>\n",
       "      <td>1</td>\n",
       "      <td>Reuchlin, Jonkheer. John George</td>\n",
       "      <td>male</td>\n",
       "      <td>38.0</td>\n",
       "      <td>0</td>\n",
       "      <td>0</td>\n",
       "      <td>19972</td>\n",
       "      <td>0.0</td>\n",
       "      <td>NaN</td>\n",
       "      <td>S</td>\n",
       "    </tr>\n",
       "  </tbody>\n",
       "</table>\n",
       "</div>"
      ],
      "text/plain": [
       "             Survived  Pclass                              Name   Sex   Age  \\\n",
       "PassengerId                                                                   \n",
       "180                 0       3               Leonard, Mr. Lionel  male  36.0   \n",
       "264                 0       1             Harrison, Mr. William  male  40.0   \n",
       "272                 1       3      Tornquist, Mr. William Henry  male  25.0   \n",
       "278                 0       2       Parkes, Mr. Francis \"Frank\"  male   NaN   \n",
       "303                 0       3   Johnson, Mr. William Cahoone Jr  male  19.0   \n",
       "414                 0       2    Cunningham, Mr. Alfred Fleming  male   NaN   \n",
       "467                 0       2             Campbell, Mr. William  male   NaN   \n",
       "482                 0       2  Frost, Mr. Anthony Wood \"Archie\"  male   NaN   \n",
       "598                 0       3               Johnson, Mr. Alfred  male  49.0   \n",
       "634                 0       1     Parr, Mr. William Henry Marsh  male   NaN   \n",
       "675                 0       2        Watson, Mr. Ennis Hastings  male   NaN   \n",
       "733                 0       2              Knight, Mr. Robert J  male   NaN   \n",
       "807                 0       1            Andrews, Mr. Thomas Jr  male  39.0   \n",
       "816                 0       1                  Fry, Mr. Richard  male   NaN   \n",
       "823                 0       1   Reuchlin, Jonkheer. John George  male  38.0   \n",
       "\n",
       "             SibSp  Parch  Ticket  Fare Cabin Embarked  \n",
       "PassengerId                                             \n",
       "180              0      0    LINE   0.0   NaN        S  \n",
       "264              0      0  112059   0.0   B94        S  \n",
       "272              0      0    LINE   0.0   NaN        S  \n",
       "278              0      0  239853   0.0   NaN        S  \n",
       "303              0      0    LINE   0.0   NaN        S  \n",
       "414              0      0  239853   0.0   NaN        S  \n",
       "467              0      0  239853   0.0   NaN        S  \n",
       "482              0      0  239854   0.0   NaN        S  \n",
       "598              0      0    LINE   0.0   NaN        S  \n",
       "634              0      0  112052   0.0   NaN        S  \n",
       "675              0      0  239856   0.0   NaN        S  \n",
       "733              0      0  239855   0.0   NaN        S  \n",
       "807              0      0  112050   0.0   A36        S  \n",
       "816              0      0  112058   0.0  B102        S  \n",
       "823              0      0   19972   0.0   NaN        S  "
      ]
     },
     "execution_count": 225,
     "metadata": {},
     "output_type": "execute_result"
    }
   ],
   "source": [
    "# Find out more about the folks that paid $0 in fare\n",
    "\n",
    "#titan_data[titan_data['Fare']==0]\n",
    "titan_data[titan_data.loc[:, 'Fare']==0]"
   ]
  },
  {
   "cell_type": "markdown",
   "metadata": {},
   "source": [
    "** Observations: ** \n",
    "- Almost all of these people died, even if they were in first class \n",
    "- Many had NaN values for cabin.. where did they sleep?\n",
    "- All male and all embarked at Southampton, the very first stop\n",
    "- Given all this info, they were probably crew"
   ]
  },
  {
   "cell_type": "code",
   "execution_count": 226,
   "metadata": {},
   "outputs": [
    {
     "name": "stdout",
     "output_type": "stream",
     "text": [
      "The number of survivors on the Titanic were 342\n",
      "The number of dead on the Titanic were 549\n",
      "The number of males on the Titanic were 577\n",
      "The number of females on the Titanic were 314\n",
      "The number of people who boarded at Cherbourg were 168\n",
      "The number of people who boarded at Queenstown were 77\n",
      "The number of people who boarded at Southampton were 644\n"
     ]
    },
    {
     "data": {
      "text/plain": [
       "<matplotlib.text.Text at 0x1167e6b50>"
      ]
     },
     "execution_count": 226,
     "metadata": {},
     "output_type": "execute_result"
    },
    {
     "data": {
      "image/png": "[encoded data removed]",
      "text/plain": [
       "<matplotlib.figure.Figure at 0x116228090>"
      ]
     },
     "metadata": {},
     "output_type": "display_data"
    },
    {
     "data": {
      "image/png": "[encoded data removed]",
      "text/plain": [
       "<matplotlib.figure.Figure at 0x11667a950>"
      ]
     },
     "metadata": {},
     "output_type": "display_data"
    },
    {
     "data": {
      "image/png": "[encoded data removed]",
      "text/plain": [
       "<matplotlib.figure.Figure at 0x116760b50>"
      ]
     },
     "metadata": {},
     "output_type": "display_data"
    }
   ],
   "source": [
    "# Quickly describe categorical variables \n",
    "\n",
    "   # Survived v Dead \n",
    "survival_series = titan_data['Survived']\n",
    "# print(genders_series[0:5])\n",
    "survival_series2 = survival_series.as_matrix()\n",
    "print('The number of survivors on the Titanic were %d' %(len(survival_series2[survival_series2==1])))\n",
    "print('The number of dead on the Titanic were %d' %(len(survival_series2[survival_series2==0])))\n",
    "# if more than 1D, consider .shape (e.g. genders_series2[genders_series2=='male'].shape[0])\n",
    "\n",
    "y = [len(survival_series2[survival_series2==1]),len(survival_series2[survival_series2==0])]\n",
    "x = [1,2]\n",
    "labels = ['survived','deceased']\n",
    "plt.bar(x, y, color=\"green\", align = 'center')\n",
    "plt.xticks(x, labels)\n",
    "plt.ylabel('Number of passengers')\n",
    "\n",
    "\n",
    "   # Male v Female\n",
    "plt.figure()\n",
    "genders_series = titan_data['Sex']\n",
    "# print(genders_series[0:5])\n",
    "genders_series2 = genders_series.as_matrix()\n",
    "# print(genders_series2[0:5])\n",
    "# print(len(genders_series2))\n",
    "# print(type(genders_series2))\n",
    "print('The number of males on the Titanic were %d' %(len(genders_series2[genders_series2=='male'])))\n",
    "    # print (\"alex is the {} - {}\".format('best', str(1))) # better way to format print statement \n",
    "\n",
    "print('The number of females on the Titanic were %d' %(len(genders_series2[genders_series2!='male'])))\n",
    "\n",
    "y = [len(genders_series2[genders_series2=='male']),len(genders_series2[genders_series2!='male'])]\n",
    "x = [1,2]\n",
    "labels = ['male','female']\n",
    "plt.bar(x, y, color=\"blue\", align = 'center')\n",
    "plt.xticks(x, labels)\n",
    "plt.ylabel('Number of passengers')\n",
    "\n",
    "\n",
    "    # Embarkment location\n",
    "plt.figure()\n",
    "embark_pts = titan_data['Embarked']\n",
    "embark_pts2 = embark_pts.as_matrix()\n",
    "print('The number of people who boarded at Cherbourg were %d' %(len(embark_pts2[embark_pts2=='C'])))\n",
    "print('The number of people who boarded at Queenstown were %d' %(len(embark_pts2[embark_pts2=='Q'])))\n",
    "print('The number of people who boarded at Southampton were %d' %(len(embark_pts2[embark_pts2=='S'])))\n",
    "y = [len(embark_pts2[embark_pts2=='C']),len(embark_pts2[embark_pts2=='Q']),len(embark_pts2[embark_pts2=='S'])]\n",
    "x = [1,2,3]\n",
    "labels = ['Cherbourg','Queenstown','Southampton']\n",
    "plt.bar(x,y,color='red',align='center')\n",
    "plt.xticks(x,labels)\n",
    "plt.ylabel('Number of passengers')\n",
    "\n",
    "## FIGURE OUT HOW TO FIND A.L.L. NAN VALUES LATER \n",
    "    #print('The number of people who boarded at unknown locations were %d' %(len(embark_pts2[embark_pts2.isnan])))"
   ]
  },
  {
   "cell_type": "code",
   "execution_count": 138,
   "metadata": {},
   "outputs": [
    {
     "name": "stdout",
     "output_type": "stream",
     "text": [
      "PassengerId\n",
      "60     46.9\n",
      "72     46.9\n",
      "387    46.9\n",
      "481    46.9\n",
      "679    46.9\n",
      "684    46.9\n",
      "Name: Fare, dtype: float64\n",
      "0.217138407052\n"
     ]
    },
    {
     "data": {
      "image/png": "[encoded data removed]",
      "text/plain": [
       "<matplotlib.figure.Figure at 0x114719c50>"
      ]
     },
     "metadata": {},
     "output_type": "display_data"
    }
   ],
   "source": [
    "# Searching for correlation between fare and sibsp + parch (#1 research question). \n",
    "# Did people who paid higher for tickets generally also bring more people with them on the trip? \n",
    "\n",
    "# Create series that combines parch & sibsp\n",
    "all_relatives = titan_data.loc[:, 'Parch'] + titan_data.loc[:, 'SibSp']\n",
    "\n",
    "# Create series for fare \n",
    "all_fares = titan_data.loc[:,'Fare']\n",
    "\n",
    "# Create a scatter plot \n",
    "plt.scatter(all_relatives,all_fares)\n",
    "plt.xlim(-1,11)\n",
    "plt.ylim(-20,600)\n",
    "plt.xticks(range(0,11))\n",
    "print(all_fares[all_relatives==7]) # each member of one family paid same amount\n",
    "\n",
    "# Calculate Pearson's value (prediction: strong! >.80)\n",
    "print(np.corrcoef(all_relatives, all_fares)[0,1])\n",
    "\n",
    "    # actually, the correlation is pretty weak! People who paid higher fares may or may not have more relatives on board. \n",
    "    # also interesting finding: people in one family all paid the same amount each! "
   ]
  },
  {
   "cell_type": "code",
   "execution_count": 227,
   "metadata": {},
   "outputs": [
    {
     "name": "stdout",
     "output_type": "stream",
     "text": [
      "-0.549499619944\n"
     ]
    },
    {
     "data": {
      "image/png": "[encoded data removed]",
      "text/plain": [
       "<matplotlib.figure.Figure at 0x116570590>"
      ]
     },
     "metadata": {},
     "output_type": "display_data"
    }
   ],
   "source": [
    "# Searching for correlation between fare and class (#2 research question). \n",
    "# Did people who paid higher for tickets generally stay in higher class? \n",
    "    # Prediction: strong negative correlation because 1 = first class (richest people)\n",
    "\n",
    "# Create series that combines parch & sibsp\n",
    "all_classes = titan_data.loc[:, 'Pclass']\n",
    "\n",
    "# Create series for fare \n",
    "all_fares = titan_data.loc[:,'Fare']\n",
    "\n",
    "# Create a scatter plot \n",
    "plt.scatter(all_classes,all_fares)\n",
    "plt.ylim(-20,600)\n",
    "plt.xticks([1,2,3])\n",
    "\n",
    "# Calculate Pearson's value (prediction: strong! >.80)\n",
    "print(np.corrcoef(all_classes, all_fares)[0,1])\n",
    "\n",
    "    # correlation is moderately negative! People who paid higher fares were generally in first class. "
   ]
  },
  {
   "cell_type": "code",
   "execution_count": 228,
   "metadata": {},
   "outputs": [
    {
     "name": "stdout",
     "output_type": "stream",
     "text": [
      "        Survived  Pclass  Name  Age  SibSp  Parch  Ticket  Fare  Cabin  \\\n",
      "Sex                                                                      \n",
      "female       314     314   314  261    314    314     314   314     97   \n",
      "male         577     577   577  453    577    577     577   577    107   \n",
      "\n",
      "        Embarked  \n",
      "Sex               \n",
      "female       312  \n",
      "male         577  \n",
      "        Survived  Pclass       Age  SibSp  Parch        Fare\n",
      "Sex                                                         \n",
      "female       233     678   7286.00    218    204  13966.6628\n",
      "male         109    1379  13919.17    248    136  14727.2865\n",
      "The female survival rate was 0.742038216561\n",
      "The male survival rate was 0.188908145581\n"
     ]
    }
   ],
   "source": [
    "# Group by sex \n",
    "counts_by_gender = titan_data.groupby(['Sex']).count()\n",
    "sums_by_gender = titan_data.groupby(['Sex']).sum()\n",
    "print(counts_by_gender)\n",
    "print(sums_by_gender)\n",
    "\n",
    "female_percent_survival = sums_by_gender.iloc[0,0] / counts_by_gender.iloc[0,0]\n",
    "print('The female survival rate was {}'.format(female_percent_survival))\n",
    "male_percent_survival = sums_by_gender.iloc[1,0]/counts_by_gender.iloc[1,0]\n",
    "print('The male survival rate was {}'.format(male_percent_survival))"
   ]
  },
  {
   "cell_type": "code",
   "execution_count": 229,
   "metadata": {
    "scrolled": true
   },
   "outputs": [
    {
     "name": "stdout",
     "output_type": "stream",
     "text": [
      "The survival rate for adult women with kids was 0.671052631579\n",
      "The survival rate for adult women without kids was 0.8\n"
     ]
    }
   ],
   "source": [
    "# Group women w/ children vs women w/o children\n",
    "    # Filtered out women younger than 18, because they're probably some other woman's kid (Parch value is more likely to hold parents)\n",
    "    # Included women with NaN for age values otherwise lots of data was missing (note: this means that there might be more women being included with parch having parents)\n",
    "\n",
    "no_women = titan_data[(titan_data['Sex']=='female')].shape[0]\n",
    "no_young_women = titan_data[(titan_data['Sex']=='female') & (titan_data['Age']<=18)].shape[0]\n",
    "no_adult_women = titan_data[(titan_data['Sex']=='female') & ( (titan_data['Age']>18) | (titan_data['Age'].isnull()))].shape[0]\n",
    "\n",
    "# analyzing survival among adult women with kids \n",
    "no_adult_women_kids = titan_data[(titan_data['Sex']=='female') & ((titan_data['Age']>18) | (titan_data['Age'].isnull())) & (titan_data['Parch']>0)].shape[0]\n",
    "no_adult_women_kids_survived = titan_data[(titan_data['Sex']=='female') & ((titan_data['Age']>18) |(titan_data['Age'].isnull())) & (titan_data['Parch']>0) & (titan_data['Survived']==1)].shape[0]\n",
    "\n",
    "# analyzing survival among adult women without kids \n",
    "no_adult_women_nokids = titan_data[(titan_data['Sex']=='female') & ((titan_data['Age']>18) | (titan_data['Age'].isnull())) & (titan_data['Parch']==0)].shape[0]\n",
    "no_adult_women_nokids_survived = titan_data[(titan_data['Sex']=='female') & ((titan_data['Age']>18) | (titan_data['Age'].isnull())) & (titan_data['Parch']==0) & (titan_data['Survived']==1)].shape[0]\n",
    "\n",
    "# print(no_women)\n",
    "# print(no_young_women)\n",
    "# print(no_adult_women)\n",
    "# print(no_adult_women_kids_survived)\n",
    "# print(no_adult_women_kids)\n",
    "# print(no_adult_women_nokids_survived)\n",
    "# print(no_adult_women_nokids)\n",
    "print('The survival rate for adult women with kids was {}'.format(str(no_adult_women_kids_survived*1.0/no_adult_women_kids)))\n",
    "print('The survival rate for adult women without kids was {}'.format(str(no_adult_women_nokids_survived*1.0/no_adult_women_nokids)))\n",
    "\n"
   ]
  },
  {
   "cell_type": "markdown",
   "metadata": {},
   "source": [
    "** Observations: ** \n",
    "- Cannot be 100% sure about results because Parch value doesn't separate parents from kids.. older women might have parents & no kids and would be included in this analysis as \"with kids\" \n",
    "- Keeping that in mind, being a woman with kids did not seem to significantly increase survival rate. In fact, it suggests your chance of survival DROPS. This is surprising!! "
   ]
  },
  {
   "cell_type": "code",
   "execution_count": 230,
   "metadata": {
    "collapsed": true
   },
   "outputs": [],
   "source": [
    "# Create my own function to print survival rate for variables with 3 categories\n",
    "\n",
    "def survival_rates(df,variable,attribute1,attribute2,attribute3):\n",
    "    no_1 = df[(df[variable]==attribute1)].shape[0]\n",
    "    no_1_survived = df[(df[variable]==attribute1) & (df['Survived']==1)].shape[0]\n",
    "    no_2 = df[(df[variable]==attribute2)].shape[0]\n",
    "    no_2_survived = df[(df[variable]==attribute2) & (df['Survived']==1)].shape[0]\n",
    "    no_3 = df[(df[variable]==attribute3)].shape[0]\n",
    "    no_3_survived = df[(df[variable]==attribute3) & (df['Survived']==1)].shape[0]\n",
    "\n",
    "    print('The survival rate for {} was {}'.format(attribute1, str(no_1_survived*1.0/no_1)))\n",
    "    print('The survival rate for {} was {}'.format(attribute2, str(no_2_survived*1.0/no_2)))\n",
    "    print('The survival rate for {} was {}'.format(attribute3, str(no_3_survived*1.0/no_3)))\n"
   ]
  },
  {
   "cell_type": "code",
   "execution_count": 231,
   "metadata": {},
   "outputs": [
    {
     "name": "stdout",
     "output_type": "stream",
     "text": [
      "Adult women with children\n",
      "The survival rate for 1 was 0.954545454545\n",
      "The survival rate for 2 was 0.95\n",
      "The survival rate for 3 was 0.363636363636\n",
      "\n",
      "Adult women without children\n",
      "The survival rate for 1 was 0.980769230769\n",
      "The survival rate for 2 was 0.875\n",
      "The survival rate for 3 was 0.459459459459\n"
     ]
    }
   ],
   "source": [
    "print('Adult women with children')\n",
    "survival_rates(titan_data[(titan_data['Sex']=='female')&(titan_data['Age']>18)&(titan_data['Parch']>0)],'Pclass',1,2,3)\n",
    "print('')\n",
    "print('Adult women without children')\n",
    "survival_rates(titan_data[(titan_data['Sex']=='female')&(titan_data['Age']>18)&(titan_data['Parch']==0)],'Pclass',1,2,3)"
   ]
  },
  {
   "cell_type": "code",
   "execution_count": 232,
   "metadata": {},
   "outputs": [
    {
     "name": "stdout",
     "output_type": "stream",
     "text": [
      "The survival rate for C was 0.553571428571\n",
      "The survival rate for Q was 0.38961038961\n",
      "The survival rate for S was 0.336956521739\n"
     ]
    }
   ],
   "source": [
    "survival_rates(titan_data,'Embarked','C','Q','S')"
   ]
  },
  {
   "cell_type": "markdown",
   "metadata": {},
   "source": [
    "** Observations: ** \n",
    "- Embarkers at Cherbourg had the highest survival rate. \n",
    "- The departure route was Southampton -> Cherbourg -> Queenstown; nothing stands out the order of stops.. \n",
    "- Embarkment point might still not be as strong of a predictor as class -- perhaps more upper class passengers boarded at Cherbourg (confounding factor). I study this next!  "
   ]
  },
  {
   "cell_type": "code",
   "execution_count": 233,
   "metadata": {},
   "outputs": [
    {
     "name": "stdout",
     "output_type": "stream",
     "text": [
      "The survival rate for 1 was 0.62962962963\n",
      "The survival rate for 2 was 0.472826086957\n",
      "The survival rate for 3 was 0.242362525458\n"
     ]
    }
   ],
   "source": [
    "# Group by class - what was the survival % in each?\n",
    "\n",
    "survival_rates(titan_data,'Pclass',1,2,3)"
   ]
  },
  {
   "cell_type": "code",
   "execution_count": 234,
   "metadata": {},
   "outputs": [
    {
     "name": "stdout",
     "output_type": "stream",
     "text": [
      "The survival rate for 1 was 0.694117647059\n",
      "The survival rate for 2 was 0.529411764706\n",
      "The survival rate for 3 was 0.378787878788\n"
     ]
    }
   ],
   "source": [
    "survival_rates(titan_data[titan_data['Embarked']=='C'],'Pclass',1,2,3)"
   ]
  },
  {
   "cell_type": "markdown",
   "metadata": {},
   "source": [
    "** Observations: ** \n",
    "- Survival rate for first class was higher than second class, and second class was higher than first \n",
    "- Question: does being a woman predict greater survival among passengers in each class?"
   ]
  },
  {
   "cell_type": "code",
   "execution_count": 235,
   "metadata": {},
   "outputs": [
    {
     "name": "stdout",
     "output_type": "stream",
     "text": [
      "men\n",
      "The survival rate for 1 was 0.368852459016\n",
      "The survival rate for 2 was 0.157407407407\n",
      "The survival rate for 3 was 0.135446685879\n",
      "\n",
      "women\n",
      "The survival rate for 1 was 0.968085106383\n",
      "The survival rate for 2 was 0.921052631579\n",
      "The survival rate for 3 was 0.5\n"
     ]
    }
   ],
   "source": [
    "print('men')\n",
    "survival_rates(titan_data[titan_data['Sex']=='male'],'Pclass',1,2,3)\n",
    "print('')\n",
    "print('women')\n",
    "survival_rates(titan_data[titan_data['Sex']=='female'],'Pclass',1,2,3)"
   ]
  },
  {
   "cell_type": "code",
   "execution_count": 237,
   "metadata": {},
   "outputs": [
    {
     "data": {
      "text/plain": [
       "<matplotlib.legend.Legend at 0x116832350>"
      ]
     },
     "execution_count": 237,
     "metadata": {},
     "output_type": "execute_result"
    },
    {
     "data": {
      "image/png": "[encoded data removed]",
      "text/plain": [
       "<matplotlib.figure.Figure at 0x116832510>"
      ]
     },
     "metadata": {},
     "output_type": "display_data"
    }
   ],
   "source": [
    "# Create a bar plot of above data\n",
    "\n",
    "fig, ax = plt.subplots()\n",
    "male_data = [0.37,0.16,0.14]\n",
    "female_data = [0.97,0.92,0.5]\n",
    "N = 3\n",
    "x = np.arange(N)  # the x locations for the groups\n",
    "widthx = 0.25\n",
    "labels = ['First Class', 'Second Class', 'Third Class']\n",
    "rect1 = ax.bar(x, male_data, width=widthx, color=\"blue\", align='center')\n",
    "rect2 = ax.bar(x + widthx,female_data,width = widthx, color=\"red\", align='center')\n",
    "plt.xticks(x,labels)\n",
    "plt.ylabel('Survival Rate')\n",
    "plt.title('Survival rate of each ticket class between men and women')\n",
    "ax.legend((rect1[0], rect2[0]), ('Men', 'Women'))"
   ]
  },
  {
   "cell_type": "markdown",
   "metadata": {},
   "source": [
    "** Observations: ** \n",
    "- Survival rate for first & second class women was significantly higher than the survival rate for third class women\n",
    "- Women were also SO much  more likely than men to survive, and this was true for every class\n",
    "- Question: does being a young woman (<18) predict greater survival in any class?"
   ]
  },
  {
   "cell_type": "code",
   "execution_count": 238,
   "metadata": {},
   "outputs": [
    {
     "name": "stdout",
     "output_type": "stream",
     "text": [
      "The survival rate for 1 was 0.875\n",
      "The survival rate for 2 was 1.0\n",
      "The survival rate for 3 was 0.542857142857\n"
     ]
    }
   ],
   "source": [
    "survival_rates(titan_data[(titan_data['Sex']=='female')&(titan_data['Age']<18)],'Pclass',1,2,3)"
   ]
  },
  {
   "cell_type": "markdown",
   "metadata": {},
   "source": [
    "** Observations: ** \n",
    "- Surprising!: All young women in 2nd class survived compared to only 88% in first class "
   ]
  },
  {
   "cell_type": "markdown",
   "metadata": {},
   "source": [
    "### Conclusions"
   ]
  },
  {
   "cell_type": "markdown",
   "metadata": {},
   "source": [
    "**1. How correlated are fare paid and the number of relatives on board?**\n",
    "   - I predicted there would be a positive correlation because people would pay higher prices to have more people on board\n",
    "   - The reality was that fare & relatives had a very weak, positive correlation (r = 0.21)\n",
    "   - Fare price was determined by class, not the number of people you brought on board\n",
    "   - People in one family generally stayed in the same ticket class and paid the same ticket fare\n",
    "   - People brought a varying number of relatives on board in all three ticket classes \n",
    "\n",
    "**2. How correlated are ticket fare and the ticket class?**\n",
    "   - I predicted there would be a strong, negative correlation because the lower the class number (1st class is \"lowest\" class), the higher the ticket fare probably was\n",
    "   - The correlation coefficient was moderately negative (r = -0.55)\n",
    "   - There were other factors causing the fare prices to vary, probably where on the ship the cabin was located/the type of cabin. Grouping similar cabin types/locations in future analyses will probably better predict fare pric\n",
    "\n",
    "**3. What factors were the best predictors of survival on the Titanic?**\n",
    "   - Women with children\n",
    "       - When observing women across the whole ship, women with children were not more likely to survive than women without children\n",
    "       - When observing women in specific ticket classes, women with children became more likely to survive than women without children in second class, but not first or third. \n",
    "       - This is surprising, given background info about the titanic! A possible error could be coming from the fact that parents and children are not separated in the 'Parch' variable. While I tried to correct for it by only looking at women over 18 yrs old (women younger than 18 are more likely to be someone else's kid), this was not a foolproof method\n",
    "   - Embarkment point\n",
    "       - Embarkers at Cherbourg had the highest survival rate\n",
    "   - Ticket class\n",
    "       - First class was 1.3x more likely to survive than second class and 2.6x more likely than third class\n",
    "   - Sex \n",
    "       - Being a woman GREATLY increased your chance of survival. Eye-balling the bar graph, being a woman increased your chances of survival in first class by more than 2x, in second class by more than 4x, and third class by more than 3x"
   ]
  }
 ],
 "metadata": {
  "kernelspec": {
   "display_name": "Python [conda env:DAND]",
   "language": "python",
   "name": "conda-env-DAND-py"
  },
  "language_info": {
   "codemirror_mode": {
    "name": "ipython",
    "version": 2
   },
   "file_extension": ".py",
   "mimetype": "text/x-python",
   "name": "python",
   "nbconvert_exporter": "python",
   "pygments_lexer": "ipython2",
   "version": "2.7.12"
  }
 },
 "nbformat": 4,
 "nbformat_minor": 2
}
